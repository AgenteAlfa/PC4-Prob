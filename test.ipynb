{
 "cells": [
  {
   "cell_type": "code",
   "execution_count": 22,
   "metadata": {},
   "outputs": [
    {
     "name": "stdout",
     "output_type": "stream",
     "text": [
      "Individuo original: [35 32 36 43 94 70 95 72 25 96]\n",
      "Individuo mutado: [0 0 0 0 0 0 0 0 0 0]\n"
     ]
    }
   ],
   "source": [
    "import numpy as np\n",
    "\n",
    "class Ruta:\n",
    "    def __init__(self, GEOPCT, NPOP, NG, N):\n",
    "        self.GEOPCT = GEOPCT  # Probabilidad de éxito para la distribución geométrica\n",
    "        self.NPOP = NPOP      # Tamaño de la población\n",
    "        self.NG = NG          # Número de genes por individuo\n",
    "        self.N = N            # Número máximo de puntos (ciudades, genes)\n",
    "        \n",
    "    # Función para simular una distribución geométrica\n",
    "    def geometric(self, p):\n",
    "        # La función geométrica devuelve el número de ensayos antes de un \"fallo\"\n",
    "        return np.random.geometric(p) - 1  # Restamos 1 para que sea consistente con el pseudocódigo\n",
    "\n",
    "    # Función de mutación para un solo individuo\n",
    "    def mutg(self, individuo):\n",
    "        # Número de intentos de mutación\n",
    "        m = self.geometric(self.GEOPCT) + 1\n",
    "        \n",
    "        # Selección de m puntos aleatorios entre 1 y N (ciudades)\n",
    "        p = np.random.randint(1, self.N + 1, m)\n",
    "        \n",
    "        # Ordenamos los puntos seleccionados\n",
    "        p.sort()\n",
    "\n",
    "        # Creamos un nuevo \"tour\" (copia del individuo)\n",
    "        atemp = np.zeros(self.NG, dtype=int)\n",
    "        \n",
    "        if m > 1:\n",
    "            # Copiar la sección envolvente (wrap-around) de p[m] a p[1]-1 en el nuevo tour\n",
    "            atemp[:m] = p\n",
    "            \n",
    "            # Seguir con los puntos restantes a través de la mezcla aleatoria\n",
    "            mleft = m - 1\n",
    "            while mleft > 0:\n",
    "                # Seleccionamos aleatoriamente entre 1 y mleft * 2\n",
    "                t = np.random.randint(1, mleft * 2 + 1)\n",
    "                k = (t // 2) + 1  # Determinamos el índice del segmento a agregar\n",
    "                \n",
    "                if t % 2 == 0:\n",
    "                    # Si es par, agregamos el segmento en la dirección ascendente\n",
    "                    atemp[m - mleft: m - mleft + k] = p[k - 1:m]\n",
    "                else:\n",
    "                    # Si es impar, agregamos el segmento en la dirección inversa\n",
    "                    atemp[m - mleft: m - mleft + k] = p[m - mleft - k:m - mleft]\n",
    "                    \n",
    "                mleft -= 1\n",
    "\n",
    "        return atemp\n",
    "\n",
    "\n",
    "# Ejemplo de uso:\n",
    "# Supongamos que tenemos una ruta con parámetros GEOPCT, NPOP, NG y N\n",
    "\n",
    "GEOPCT = 0.3   # Probabilidad de éxito para la distribución geométrica\n",
    "NPOP = 50      # Número de individuos en la población\n",
    "NG = 10        # Número de genes por individuo (ciudades)\n",
    "N = 100        # Número máximo de puntos o ciudades\n",
    "\n",
    "# Inicializamos la clase Ruta\n",
    "ruta = Ruta(GEOPCT, NPOP, NG, N)\n",
    "\n",
    "# Creamos un individuo de prueba (un array con 10 genes aleatorios)\n",
    "individuo = np.random.randint(1, N + 1, NG)\n",
    "\n",
    "# Aplicamos la mutación\n",
    "individuo_mutado = ruta.mutg(individuo)\n",
    "\n",
    "print(\"Individuo original:\", individuo)\n",
    "print(\"Individuo mutado:\", individuo_mutado)\n"
   ]
  }
 ],
 "metadata": {
  "kernelspec": {
   "display_name": "Python 3",
   "language": "python",
   "name": "python3"
  },
  "language_info": {
   "codemirror_mode": {
    "name": "ipython",
    "version": 3
   },
   "file_extension": ".py",
   "mimetype": "text/x-python",
   "name": "python",
   "nbconvert_exporter": "python",
   "pygments_lexer": "ipython3",
   "version": "3.12.1"
  }
 },
 "nbformat": 4,
 "nbformat_minor": 2
}
